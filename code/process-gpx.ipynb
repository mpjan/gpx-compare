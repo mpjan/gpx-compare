{
 "cells": [
  {
   "cell_type": "code",
   "execution_count": 15,
   "metadata": {},
   "outputs": [],
   "source": [
    "# Imports\n",
    "import pandas as pd\n",
    "import gpxpy\n",
    "import os\n",
    "from pathlib import Path\n",
    "from tqdm import tqdm\n",
    "from route import Route"
   ]
  },
  {
   "cell_type": "code",
   "execution_count": 2,
   "metadata": {},
   "outputs": [],
   "source": [
    "# Display options\n",
    "# pd.set_option('display.max_rows', None)\n",
    "pd.set_option('display.max_colwidth', 100)"
   ]
  },
  {
   "cell_type": "code",
   "execution_count": 3,
   "metadata": {},
   "outputs": [],
   "source": [
    "# Variables\n",
    "DATA_PATH = '../data/'\n",
    "GPX_FILE_PATH = DATA_PATH + 'gpx/'\n",
    "ROUTES_INDEX_PATH = DATA_PATH + 'routes-index.csv'"
   ]
  },
  {
   "cell_type": "code",
   "execution_count": 4,
   "metadata": {},
   "outputs": [
    {
     "data": {
      "text/plain": [
       "'Hardrock 100 2023 (Counter-Clockwise)'"
      ]
     },
     "execution_count": 4,
     "metadata": {},
     "output_type": "execute_result"
    }
   ],
   "source": [
    "test_route = Route(os.path.join(GPX_FILE_PATH, 'hardrock-counterclockwise-2025.gpx'))\n",
    "test_route.route_name\n"
   ]
  },
  {
   "cell_type": "code",
   "execution_count": 7,
   "metadata": {},
   "outputs": [
    {
     "data": {
      "text/plain": [
       "'goatultratrail-uae-50k-2025.gpx'"
      ]
     },
     "execution_count": 7,
     "metadata": {},
     "output_type": "execute_result"
    }
   ],
   "source": [
    "gpx_dir = Path(GPX_FILE_PATH)\n",
    "gpx_files = list(gpx_dir.glob('*.gpx'))\n",
    "gpx_files[0].name"
   ]
  },
  {
   "cell_type": "code",
   "execution_count": null,
   "metadata": {},
   "outputs": [],
   "source": []
  },
  {
   "cell_type": "code",
   "execution_count": 24,
   "metadata": {},
   "outputs": [],
   "source": [
    "# Function definitions\n",
    "def check_uniques(df, col_name):\n",
    "    \"\"\"\n",
    "    Checks if the values in a DataFrame column are unique. If there are duplicates, prints\n",
    "    the duplicates.\n",
    "\n",
    "    Args:\n",
    "        df (DataFrame): The DataFrame to check.\n",
    "        col_name (str): The name of the column to check.\n",
    "\n",
    "    Returns:\n",
    "        list: A list of the duplicate values.\n",
    "    \"\"\"\n",
    "    duplicates = df[col_name].value_counts()[df[col_name].value_counts() > 1].index.tolist()\n",
    "    \n",
    "    if duplicates:\n",
    "        print(f\"Duplicate values in column {col_name}: {duplicates}\")\n",
    "        return duplicates\n",
    "    else:\n",
    "        print(f\"All values in column {col_name} are unique\")\n",
    "        return []\n",
    "\n",
    "def process_gpx_files(gpx_file_path=GPX_FILE_PATH):\n",
    "    \"\"\"\n",
    "    Reads all GPX files in the given directory, parsing out their track names and returns\n",
    "    a DataFrame with the file names and track names. Also checks for duplicates in the\n",
    "    track names.\n",
    "\n",
    "    Args:\n",
    "        gpx_file_path (str): The path to the directory containing the GPX files.\n",
    "\n",
    "    Returns:\n",
    "        DataFrame: A DataFrame with the file names and track names.\n",
    "    \"\"\"\n",
    "    # Get list of GPX files\n",
    "    gpx_dir = Path(gpx_file_path)\n",
    "    gpx_files = list(gpx_dir.glob('*.gpx'))\n",
    "    gpx_files.sort()\n",
    "\n",
    "    # Create empty lists to store data\n",
    "    file_names = []\n",
    "    route_names = []\n",
    "    route_distances = []\n",
    "    avg_elevations = []\n",
    "\n",
    "    pbar = tqdm(gpx_files, desc='Processing GPX files', unit='file')\n",
    "    \n",
    "    # Process each GPX file\n",
    "    for gpx_file in pbar:\n",
    "        pbar.set_description(f'Processing {gpx_file.name}')\n",
    "        # Create Route object to access metrics\n",
    "        route = Route(os.path.join(GPX_FILE_PATH, gpx_file.name))\n",
    "        \n",
    "        file_names.append(route.file_name)\n",
    "        route_names.append(route.route_name)\n",
    "        route_distances.append(route.total_distance)\n",
    "        avg_elevations.append(route.avg_elevation_gain_per_km)\n",
    "        \n",
    "        if route.route_name is None:\n",
    "            print(f\"No route name found for {gpx_file}\")\n",
    "\n",
    "    # Create DataFrame\n",
    "    df = pd.DataFrame({\n",
    "        'file_name': file_names,\n",
    "        'route_name': route_names,\n",
    "        'route_distance_m': route_distances,\n",
    "        'avg_elevation_gain_per_km': avg_elevations\n",
    "    })\n",
    "\n",
    "    duplicates = check_uniques(df, 'route_name')\n",
    "\n",
    "    return df"
   ]
  },
  {
   "cell_type": "code",
   "execution_count": 25,
   "metadata": {},
   "outputs": [
    {
     "name": "stderr",
     "output_type": "stream",
     "text": [
      "Processing xterra-ilhagrande-5k-2025.gpx: 100%|██████████| 92/92 [01:26<00:00,  1.06file/s]                                               "
     ]
    },
    {
     "name": "stdout",
     "output_type": "stream",
     "text": [
      "All values in column route_name are unique\n"
     ]
    },
    {
     "name": "stderr",
     "output_type": "stream",
     "text": [
      "\n"
     ]
    },
    {
     "data": {
      "text/html": [
       "<div>\n",
       "<style scoped>\n",
       "    .dataframe tbody tr th:only-of-type {\n",
       "        vertical-align: middle;\n",
       "    }\n",
       "\n",
       "    .dataframe tbody tr th {\n",
       "        vertical-align: top;\n",
       "    }\n",
       "\n",
       "    .dataframe thead th {\n",
       "        text-align: right;\n",
       "    }\n",
       "</style>\n",
       "<table border=\"1\" class=\"dataframe\">\n",
       "  <thead>\n",
       "    <tr style=\"text-align: right;\">\n",
       "      <th></th>\n",
       "      <th>file_name</th>\n",
       "      <th>route_name</th>\n",
       "      <th>route_distance_m</th>\n",
       "      <th>avg_elevation_gain_per_km</th>\n",
       "    </tr>\n",
       "  </thead>\n",
       "  <tbody>\n",
       "    <tr>\n",
       "      <th>0</th>\n",
       "      <td>cambotas-cocais-11-2024.gpx</td>\n",
       "      <td>Cambotas Trail Fest 2024 - 11km</td>\n",
       "      <td>11188.007659</td>\n",
       "      <td>45.799039</td>\n",
       "    </tr>\n",
       "    <tr>\n",
       "      <th>1</th>\n",
       "      <td>cambotas-cocais-17-2024.gpx</td>\n",
       "      <td>Cambotas Trail Fest 2024 - 17km</td>\n",
       "      <td>16979.093543</td>\n",
       "      <td>51.816665</td>\n",
       "    </tr>\n",
       "    <tr>\n",
       "      <th>2</th>\n",
       "      <td>cambotas-cocais-27-2024.gpx</td>\n",
       "      <td>Cambotas Trail Fest 2024 - 27km</td>\n",
       "      <td>26990.645039</td>\n",
       "      <td>51.214041</td>\n",
       "    </tr>\n",
       "    <tr>\n",
       "      <th>3</th>\n",
       "      <td>cambotas-cocais-45-2024.gpx</td>\n",
       "      <td>Cambotas Trail Fest 2024 - 45km</td>\n",
       "      <td>44352.361176</td>\n",
       "      <td>50.380632</td>\n",
       "    </tr>\n",
       "    <tr>\n",
       "      <th>4</th>\n",
       "      <td>caminhosdecaravaggio-gramado-100-2024.gpx</td>\n",
       "      <td>Ultramaratona Caminhos de Caravaggio 2024 - UMCC 100K</td>\n",
       "      <td>107927.874766</td>\n",
       "      <td>30.268362</td>\n",
       "    </tr>\n",
       "    <tr>\n",
       "      <th>...</th>\n",
       "      <td>...</td>\n",
       "      <td>...</td>\n",
       "      <td>...</td>\n",
       "      <td>...</td>\n",
       "    </tr>\n",
       "    <tr>\n",
       "      <th>87</th>\n",
       "      <td>xterra-ilhabela-21k-2025.gpx</td>\n",
       "      <td>XTERRA 2025 Ilhabela - Trail Run 21K</td>\n",
       "      <td>20859.438117</td>\n",
       "      <td>33.948326</td>\n",
       "    </tr>\n",
       "    <tr>\n",
       "      <th>88</th>\n",
       "      <td>xterra-ilhabela-5k-2025.gpx</td>\n",
       "      <td>XTERRA 2025 Ilhabela - Trail Run 5K</td>\n",
       "      <td>4878.878120</td>\n",
       "      <td>40.813071</td>\n",
       "    </tr>\n",
       "    <tr>\n",
       "      <th>89</th>\n",
       "      <td>xterra-ilhagrande-10k-2025.gpx</td>\n",
       "      <td>XTERRA 2025 Ilha Grande - Trail Run 10K</td>\n",
       "      <td>10197.757358</td>\n",
       "      <td>37.666517</td>\n",
       "    </tr>\n",
       "    <tr>\n",
       "      <th>90</th>\n",
       "      <td>xterra-ilhagrande-21k-2025.gpx</td>\n",
       "      <td>XTERRA 2025 Ilha Grande - Trail Run 21K</td>\n",
       "      <td>21070.695429</td>\n",
       "      <td>51.468259</td>\n",
       "    </tr>\n",
       "    <tr>\n",
       "      <th>91</th>\n",
       "      <td>xterra-ilhagrande-5k-2025.gpx</td>\n",
       "      <td>XTERRA 2025 Ilha Grande - Trail Run 5K</td>\n",
       "      <td>5386.729759</td>\n",
       "      <td>15.282742</td>\n",
       "    </tr>\n",
       "  </tbody>\n",
       "</table>\n",
       "<p>92 rows × 4 columns</p>\n",
       "</div>"
      ],
      "text/plain": [
       "                                    file_name  \\\n",
       "0                 cambotas-cocais-11-2024.gpx   \n",
       "1                 cambotas-cocais-17-2024.gpx   \n",
       "2                 cambotas-cocais-27-2024.gpx   \n",
       "3                 cambotas-cocais-45-2024.gpx   \n",
       "4   caminhosdecaravaggio-gramado-100-2024.gpx   \n",
       "..                                        ...   \n",
       "87               xterra-ilhabela-21k-2025.gpx   \n",
       "88                xterra-ilhabela-5k-2025.gpx   \n",
       "89             xterra-ilhagrande-10k-2025.gpx   \n",
       "90             xterra-ilhagrande-21k-2025.gpx   \n",
       "91              xterra-ilhagrande-5k-2025.gpx   \n",
       "\n",
       "                                               route_name  route_distance_m  \\\n",
       "0                         Cambotas Trail Fest 2024 - 11km      11188.007659   \n",
       "1                         Cambotas Trail Fest 2024 - 17km      16979.093543   \n",
       "2                         Cambotas Trail Fest 2024 - 27km      26990.645039   \n",
       "3                         Cambotas Trail Fest 2024 - 45km      44352.361176   \n",
       "4   Ultramaratona Caminhos de Caravaggio 2024 - UMCC 100K     107927.874766   \n",
       "..                                                    ...               ...   \n",
       "87                   XTERRA 2025 Ilhabela - Trail Run 21K      20859.438117   \n",
       "88                    XTERRA 2025 Ilhabela - Trail Run 5K       4878.878120   \n",
       "89                XTERRA 2025 Ilha Grande - Trail Run 10K      10197.757358   \n",
       "90                XTERRA 2025 Ilha Grande - Trail Run 21K      21070.695429   \n",
       "91                 XTERRA 2025 Ilha Grande - Trail Run 5K       5386.729759   \n",
       "\n",
       "    avg_elevation_gain_per_km  \n",
       "0                   45.799039  \n",
       "1                   51.816665  \n",
       "2                   51.214041  \n",
       "3                   50.380632  \n",
       "4                   30.268362  \n",
       "..                        ...  \n",
       "87                  33.948326  \n",
       "88                  40.813071  \n",
       "89                  37.666517  \n",
       "90                  51.468259  \n",
       "91                  15.282742  \n",
       "\n",
       "[92 rows x 4 columns]"
      ]
     },
     "execution_count": 25,
     "metadata": {},
     "output_type": "execute_result"
    }
   ],
   "source": [
    "df = process_gpx_files()\n",
    "\n",
    "df"
   ]
  },
  {
   "cell_type": "code",
   "execution_count": 26,
   "metadata": {},
   "outputs": [],
   "source": [
    "\n",
    "# Save to CSV\n",
    "df.to_csv(ROUTES_INDEX_PATH, index=False)"
   ]
  },
  {
   "cell_type": "code",
   "execution_count": null,
   "metadata": {},
   "outputs": [],
   "source": []
  }
 ],
 "metadata": {
  "kernelspec": {
   "display_name": "gpx-compare",
   "language": "python",
   "name": "python3"
  },
  "language_info": {
   "codemirror_mode": {
    "name": "ipython",
    "version": 3
   },
   "file_extension": ".py",
   "mimetype": "text/x-python",
   "name": "python",
   "nbconvert_exporter": "python",
   "pygments_lexer": "ipython3",
   "version": "3.10.16"
  }
 },
 "nbformat": 4,
 "nbformat_minor": 2
}
